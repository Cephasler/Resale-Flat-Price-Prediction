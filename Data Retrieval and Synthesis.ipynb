{
 "cells": [
  {
   "cell_type": "markdown",
   "metadata": {},
   "source": [
    "# Data and supporting files Setup"
   ]
  },
  {
   "cell_type": "code",
   "execution_count": null,
   "metadata": {},
   "outputs": [],
   "source": [
    "# importing pandas, geopy, math\n",
    "# reading and saving csv files of the downloaded resale flat prices into dataframes\n",
    "\n",
    "import pandas as pd\n",
    "from geopy.geocoders import Nominatim\n",
    "from math import cos, asin, sqrt, pi\n",
    "\n",
    "df_1990 = pd.read_csv('resale_1990_1999.csv')\n",
    "df_2000 = pd.read_csv('resale_2000_2012.csv')\n",
    "df_2012 = pd.read_csv('resale_2012_2014.csv')\n",
    "df_2015 = pd.read_csv('resale_2015_2016.csv')\n",
    "df_2017 = pd.read_csv('resale_2017_2021.csv')\n",
    "\n",
    "# calculating the remaining lease for all the resale flats even for the data sets which did not initially have\n",
    "\n",
    "for n in [df_1990, df_2000, df_2012, df_2015, df_2017]:\n",
    "    n['remaining_lease'] = 99 - n.month.str[:4].astype(int) + n.lease_commence_date   \n"
   ]
  },
  {
   "cell_type": "code",
   "execution_count": 720,
   "metadata": {},
   "outputs": [],
   "source": [
    "# loading supporting files - cpi, mrt station coords, mall coords\n",
    "df_cpi = pd.read_csv('CPI.csv')\n",
    "df_mrt = pd.read_csv('mrtsg.csv')\n",
    "df_mrt = df_mrt[df_mrt['COLOR'] != 'OTHERS']\n",
    "df_mall = pd.read_csv('mallsg.csv')"
   ]
  },
  {
   "cell_type": "code",
   "execution_count": 285,
   "metadata": {},
   "outputs": [],
   "source": [
    "# appending all the data sets together to form one data set with continuous years\n",
    "\n",
    "df_all = df_1990\n",
    "for n in [df_2000, df_2012, df_2015, df_2017]:\n",
    "    df_all = df_all.append(n)\n",
    "\n",
    "    \n",
    "# synthesising new data based on the exisitng ones\n",
    "\n",
    "df_all['max_storey'] = df_all.storey_range.str[-2::].astype(int)\n",
    "df_all['year'] = df.month.str[:4].astype(int)"
   ]
  },
  {
   "cell_type": "markdown",
   "metadata": {},
   "source": [
    "# Setting up functions to find location (coordinates) and distance"
   ]
  },
  {
   "cell_type": "code",
   "execution_count": 264,
   "metadata": {},
   "outputs": [],
   "source": [
    "# set up function to calculate the distance between two locations based on their coordinates\n",
    "def distance(row):\n",
    "    lat2 = float(row['Latitude'])\n",
    "    lon2 = float(row['Longitude'])\n",
    "    lat1 = float(row['lat'])\n",
    "    lon1 = float(row['lon'])\n",
    "    \n",
    "    p = pi/180\n",
    "    a = 0.5 - cos((lat2-lat1)*p)/2 + cos(lat1*p) * cos(lat2*p) * (1-cos((lon2-lon1)*p))/2\n",
    "    return 12742 * asin(sqrt(a)) #2*R*asin..."
   ]
  },
  {
   "cell_type": "code",
   "execution_count": 201,
   "metadata": {},
   "outputs": [],
   "source": [
    "def find_location(row):\n",
    "    # function to find the latitude and longiitude when given the name of the place\n",
    "    \n",
    "    place = row['place']\n",
    "    \n",
    "    location = geolocator.geocode(place)\n",
    "    \n",
    "    if location != None:\n",
    "        return location.address, location.latitude, location.longitude, location.raw['importance']\n",
    "    else:\n",
    "        return \"Not Found\", \"Not Found\", \"Not Found\", \"Not Found\""
   ]
  },
  {
   "cell_type": "markdown",
   "metadata": {},
   "source": [
    "# Using Geopy to find the coordinates of the resale flats"
   ]
  },
  {
   "cell_type": "code",
   "execution_count": 281,
   "metadata": {},
   "outputs": [
    {
     "data": {
      "text/plain": [
       "['Ranggung, Sengkang East Avenue, Seng Kang, Northeast, 544207, Singapore',\n",
       " 1.3840474,\n",
       " 103.8974006,\n",
       " 0.40463416789671997]"
      ]
     },
     "execution_count": 281,
     "metadata": {},
     "output_type": "execute_result"
    }
   ],
   "source": [
    "# using individual geolocating steps for the coordinates that are not found based on the saved names in the original data set\n",
    "geolocator = Nominatim(user_agent=\"http\", timeout=2)\n",
    "location = geolocator.geocode(\"Ranggung Singapore\")\n",
    "new = [location.address, location.latitude, location.longitude, location.raw['importance']]\n",
    "new"
   ]
  },
  {
   "cell_type": "code",
   "execution_count": 222,
   "metadata": {},
   "outputs": [
    {
     "ename": "SyntaxError",
     "evalue": "invalid syntax (<ipython-input-222-5c2b4d8867bb>, line 1)",
     "output_type": "error",
     "traceback": [
      "\u001b[1;36m  File \u001b[1;32m\"<ipython-input-222-5c2b4d8867bb>\"\u001b[1;36m, line \u001b[1;32m1\u001b[0m\n\u001b[1;33m    *(df_street_name, =, pd.DataFrame(df_all.street_name.unique()))\u001b[0m\n\u001b[1;37m                      ^\u001b[0m\n\u001b[1;31mSyntaxError\u001b[0m\u001b[1;31m:\u001b[0m invalid syntax\n"
     ]
    }
   ],
   "source": [
    "# parsing the data so that the the street names can be serached up easily using geopy\n",
    "''' df_street_name = pd.DataFrame(df_all.street_name.unique())\n",
    "df_street_name.columns = ['street_name']\n",
    "df_street_name['place'] = (df_street_name['street_name'] + ' Singapore').astype(str)\n",
    "df_street_name[\"place\"]= df_street_name[\"place\"].str.replace(\"upp\", \"upper\", case = False)\n",
    "df_street_name[\"place\"]= df_street_name[\"place\"].str.replace(\"BT\", \"bukit\", case = False)\n",
    "df_street_name[\"place\"]= df_street_name[\"place\"].str.replace(\"nth\", \"north\", case = False)\n",
    "df_street_name[\"place\"]= df_street_name[\"place\"].str.replace(\"ctrl\", \"central\", case = False)\n",
    "df_street_name[\"place\"]= df_street_name[\"place\"].str.replace(\"lor\", \"lorong\", case = False)\n",
    "df_street_name[\"place\"]= df_street_name[\"place\"].str.replace(\"kg\", \"kampong\", case = False)\n",
    "df_street_name[\"place\"]= df_street_name[\"place\"].str.replace(\"jln\", \"jalan\", case = False)\n",
    "df_street_name[\"place\"]= df_street_name[\"place\"].str.replace(\"tg\", \"tanjong\", case = False)\n",
    "\n",
    "df_street_name '''"
   ]
  },
  {
   "cell_type": "code",
   "execution_count": 318,
   "metadata": {},
   "outputs": [
    {
     "data": {
      "text/plain": [
       "' df_street_name[[\\'address\\', \\'lat\\', \\'lon\\', \\'importance\\']] = df_street_name.apply(find_location, axis=\"columns\", result_type=\"expand\")\\ndf_street_name '"
      ]
     },
     "execution_count": 318,
     "metadata": {},
     "output_type": "execute_result"
    }
   ],
   "source": [
    "# using the find location function on the street name dataframe and saving the resulting dataframe into a csv file\n",
    "''' df_street_name[['address', 'lat', 'lon', 'importance']] = df_street_name.apply(find_location, axis=\"columns\", result_type=\"expand\")\n",
    "df_street_name.to_csv('street_name_coords.csv') '''"
   ]
  },
  {
   "cell_type": "code",
   "execution_count": 339,
   "metadata": {},
   "outputs": [],
   "source": [
    "# final touches done on some of the addresses hence read once again\n",
    "df_address = pd.read_csv('street_name_coords_v1.csv')"
   ]
  },
  {
   "cell_type": "markdown",
   "metadata": {},
   "source": [
    "# Finding and recording the distance from the nearest mrt"
   ]
  },
  {
   "cell_type": "code",
   "execution_count": 346,
   "metadata": {},
   "outputs": [],
   "source": [
    "df_address['key'] = 0\n",
    "df_mrt['key'] = 0\n",
    "df_union = df_address.merge(df_mrt, on='key', how='outer')"
   ]
  },
  {
   "cell_type": "code",
   "execution_count": 302,
   "metadata": {},
   "outputs": [],
   "source": [
    "# performing the distance calculation between street_name and mrt stations\n",
    "df_union[['distance']] = df_union.apply(distance, axis=\"columns\", result_type=\"expand\")"
   ]
  },
  {
   "cell_type": "code",
   "execution_count": 398,
   "metadata": {},
   "outputs": [],
   "source": [
    "# getting the distance from the nearest MRT for each street name and removing the additional column header\n",
    "df_nearest = df_union.groupby('street_name').agg({'distance': ['min']})\n",
    "df_nearest = df_nearest['distance']\n",
    "df_nearest = df_nearest.rename(columns={'min': 'dist_mrt'})"
   ]
  },
  {
   "cell_type": "code",
   "execution_count": 399,
   "metadata": {},
   "outputs": [],
   "source": [
    "# set the df_all index to street_name to combine with df_nearest to get the dist_mrt\n",
    "df_all.reset_index(inplace=True)\n",
    "df_all.set_index('street_name', inplace = True)\n",
    "df_final = pd.concat([df_all, df_nearest], axis=1, join=\"inner\")"
   ]
  },
  {
   "cell_type": "markdown",
   "metadata": {},
   "source": [
    "# Finding the distance from CBD (downtown core)"
   ]
  },
  {
   "cell_type": "code",
   "execution_count": 360,
   "metadata": {},
   "outputs": [],
   "source": [
    "# setting up the necessary dist from cbd column and the lat and lon of singapore's downtown core\n",
    "df_union2 = df_address\n",
    "df_union2['dist_cbd'] = 0\n",
    "df_union2['Latitude'], df_union2['Longitude'] = [1.287953, 103.851784] # The latitude of Downtown Core, Singapore is 1.287953, and the longitude is 103.851784."
   ]
  },
  {
   "cell_type": "code",
   "execution_count": 361,
   "metadata": {},
   "outputs": [],
   "source": [
    "# performing the distance calculation between street_name and singapore's downtown core\n",
    "df_union2[['dist_cbd']] = df_union2.apply(distance, axis=\"columns\", result_type=\"expand\")"
   ]
  },
  {
   "cell_type": "code",
   "execution_count": 696,
   "metadata": {},
   "outputs": [],
   "source": [
    "# adding the dist from cbd to the final data set and saving only the required features to the dataset\n",
    "df_distcbd = df_union2[['street_name','dist_cbd']]\n",
    "df_distcbd.set_index('street_name')\n",
    "df_final2 = pd.concat([df_final, df_distcbd.set_index('street_name')], axis=1, join=\"inner\")\n",
    "df_dataset = df_final2[['year','resale_price', 'town', 'flat_type', 'floor_area_sqm', 'flat_model', 'remaining_lease',\n",
    "                       'max_storey', 'dist_mrt', 'dist_cbd']]\n",
    "df_dataset = df_dataset.reset_index()"
   ]
  },
  {
   "cell_type": "markdown",
   "metadata": {},
   "source": [
    "# Merging the cpi data to the final dataset"
   ]
  },
  {
   "cell_type": "code",
   "execution_count": 697,
   "metadata": {},
   "outputs": [],
   "source": [
    "df_cpi2 = df_cpi.loc[df_cpi['level_1'] == 'All Items'][['year','value']]\n",
    "df_cpi2.reset_index(drop = True)\n",
    "df_cpi2.value = df_cpi2.value.astype('float')\n",
    "\n",
    "# creating a dictionary out of the CPI dataframe\n",
    "year = list(df_cpi2.year)\n",
    "cpi = list(df_cpi2.value)\n",
    "cpi_dict = {year[i]: cpi[i] for i in range(len(year))}\n",
    "cpi_dict[2021] = 101.5 # set cpi data of 2021 to be an average of the YTD cpi data\n",
    "\n",
    "# joining the cpi data into the final dataset dataframe\n",
    "df_dataset.reset_index()\n",
    "df_dataset['cpi'] = df_dataset['year']\n",
    "df_dataset = df_dataset.replace({\"cpi\": cpi_dict})\n",
    "#df_dataset.set_index('resale_price', inplace = True)"
   ]
  },
  {
   "cell_type": "markdown",
   "metadata": {},
   "source": [
    "# Changing categorical data into numerical equivalents"
   ]
  },
  {
   "cell_type": "code",
   "execution_count": 753,
   "metadata": {},
   "outputs": [],
   "source": [
    "# for the purposes of modelling, the towns need to be converted from categorical data into continuous/numerical data\n",
    "# for town: the median resale price for each town and finding its premium as compared to the median resale price\n",
    "df_town = df_dataset.groupby(['town'],as_index=False).median()[['town','resale_price']]\n",
    "df_town['town_premium'] = df_town['resale_price']-df_town['resale_price'].median()\n",
    "df_datafinal = pd.merge(df_dataset, df_town[['town','town_premium']],on='town')\n",
    "\n",
    "# for flat model: the median resale price for each town and finding its premium as compared to the median resale price\n",
    "df_flat_model = df_dataset.groupby(['flat_model'],as_index = False).median()[['flat_model','resale_price']]\n",
    "df_flat_model['model_premium'] = df_flat_model['resale_price']-df_flat_model['resale_price'].median()\n",
    "df_datafinal = pd.merge(df_datafinal, df_flat_model[['flat_model','model_premium']],on='flat_model')"
   ]
  },
  {
   "cell_type": "markdown",
   "metadata": {},
   "source": [
    "# Finding nearest mall and including nearest distance"
   ]
  },
  {
   "cell_type": "code",
   "execution_count": 755,
   "metadata": {},
   "outputs": [],
   "source": [
    "# tidying up the mall dataframe\n",
    "df_mall.rename(columns={\"latitude\": \"Latitude\", \"longitude\": \"Longitude\"})\n",
    "df_mall['key'] = 0\n",
    "df_mall_address = df_address.merge(df_mall.drop(columns='Unnamed: 0'), on='key', how='outer')\n",
    "\n",
    "# performing the distance calculation between street_name and mrt stations\n",
    "df_mall_address[['distance']] = df_mall_address.apply(distance, axis=\"columns\", result_type=\"expand\")\n",
    "\n",
    "# getting the distance from the nearest MRT for each street name and removing the additional column header\n",
    "df_nearest_mall = df_mall_address.groupby('street_name').agg({'distance': ['min']})\n",
    "df_nearest_mall = df_nearest_mall['distance']\n",
    "df_nearest_mall = df_nearest_mall.rename(columns={'min': 'dist_mall'})\n",
    "df_datafinal = pd.merge(df_datafinal, df_nearest_mall.reset_index()[['street_name','dist_mall']],on='street_name')"
   ]
  },
  {
   "cell_type": "code",
   "execution_count": 757,
   "metadata": {},
   "outputs": [],
   "source": [
    "#saving a copy of the final data set for the next part of analysis\n",
    "df_datafinal.set_index('resale_price', inplace = True)\n",
    "df_datafinal.to_csv('final_dataset.csv')"
   ]
  },
  {
   "cell_type": "code",
   "execution_count": null,
   "metadata": {},
   "outputs": [],
   "source": []
  },
  {
   "cell_type": "code",
   "execution_count": null,
   "metadata": {},
   "outputs": [],
   "source": []
  }
 ],
 "metadata": {
  "kernelspec": {
   "display_name": "Python 3",
   "language": "python",
   "name": "python3"
  },
  "language_info": {
   "codemirror_mode": {
    "name": "ipython",
    "version": 3
   },
   "file_extension": ".py",
   "mimetype": "text/x-python",
   "name": "python",
   "nbconvert_exporter": "python",
   "pygments_lexer": "ipython3",
   "version": "3.7.6"
  }
 },
 "nbformat": 4,
 "nbformat_minor": 4
}
